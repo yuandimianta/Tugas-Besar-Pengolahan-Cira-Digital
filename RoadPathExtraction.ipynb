{
 "cells": [
  {
   "attachments": {},
   "cell_type": "markdown",
   "metadata": {},
   "source": [
    "# TUGAS BESAR PENGOLAHAN CITRA DIGITAL\n",
    "## Road Path Extraction\n",
    "### Kelompok 28"
   ]
  },
  {
   "attachments": {},
   "cell_type": "markdown",
   "metadata": {},
   "source": [
    "## Import Library"
   ]
  },
  {
   "cell_type": "code",
   "execution_count": 27,
   "metadata": {},
   "outputs": [],
   "source": [
    "import os\n",
    "import cv2\n",
    "import numpy as np\n",
    "import matplotlib.pyplot as plt"
   ]
  },
  {
   "attachments": {},
   "cell_type": "markdown",
   "metadata": {},
   "source": [
    "## Fungsi Thresholding"
   ]
  },
  {
   "cell_type": "code",
   "execution_count": 28,
   "metadata": {},
   "outputs": [],
   "source": [
    "def threshold_image(image):\n",
    "    threshold_value = 127\n",
    "    _, thresholded_image = cv2.threshold(image, threshold_value, 255, cv2.THRESH_BINARY)\n",
    "    return thresholded_image"
   ]
  },
  {
   "attachments": {},
   "cell_type": "markdown",
   "metadata": {},
   "source": [
    "## Fungsi Simpan Gambar"
   ]
  },
  {
   "cell_type": "code",
   "execution_count": 29,
   "metadata": {},
   "outputs": [],
   "source": [
    "def save_image(image, folder_path, filename):\n",
    "    if not os.path.exists(folder_path):\n",
    "        os.makedirs(folder_path)\n",
    "    save_path = os.path.join(folder_path, filename)\n",
    "    cv2.imwrite(save_path, image)"
   ]
  },
  {
   "attachments": {},
   "cell_type": "markdown",
   "metadata": {},
   "source": [
    "## Preprocessing"
   ]
  },
  {
   "cell_type": "code",
   "execution_count": 30,
   "metadata": {},
   "outputs": [],
   "source": [
    "def process_image(image_path):\n",
    "    # Load citra satelit\n",
    "    img = plt.imread(image_path)\n",
    "    image = cv2.imread(image_path, cv2.IMREAD_GRAYSCALE)\n",
    "\n",
    "    # Perbaikan kualitas citra\n",
    "    enhanced_image = cv2.equalizeHist(image)\n",
    "\n",
    "    # Pendeteksian tepi\n",
    "    edges = cv2.Canny(enhanced_image, 100, 200)\n",
    "\n",
    "    # Morfologi citra\n",
    "    kernel = np.ones((5, 5), np.uint8)\n",
    "    dilated_image = cv2.dilate(edges, kernel, iterations=1)\n",
    "\n",
    "    threshold = threshold_image(dilated_image)\n",
    "\n",
    "    # Menyimpan hasil proses threshold dalam folder \"train\"\n",
    "    save_image(threshold, r\"D:\\Yuan Dimianta\\Kuliah\\Semester 4\\PCD\\Praktikum\\kelompok_7\\TugasBesar\\train\", os.path.basename(image_path))\n",
    "\n",
    "    # Mencari kontur pada citra\n",
    "    contours, hierarchy = cv2.findContours(threshold, cv2.RETR_TREE, cv2.CHAIN_APPROX_SIMPLE)\n",
    "    contour_image = cv2.drawContours(img, contours, -1, (0, 255, 0), 2)\n",
    "\n",
    "    # Menyimpan hasil proses kontur dalam folder \"valid\"\n",
    "    save_image(contour_image, r\"D:\\Yuan Dimianta\\Kuliah\\Semester 4\\PCD\\Praktikum\\kelompok_7\\TugasBesar\\valid\", os.path.basename(image_path))"
   ]
  },
  {
   "attachments": {},
   "cell_type": "markdown",
   "metadata": {},
   "source": [
    "## Load Data Set"
   ]
  },
  {
   "cell_type": "code",
   "execution_count": 31,
   "metadata": {},
   "outputs": [],
   "source": [
    "# Mendapatkan daftar file gambar dalam folder \"test\"\n",
    "folder_path = r\"D:\\Yuan Dimianta\\Kuliah\\Semester 4\\PCD\\Praktikum\\kelompok_7\\TugasBesar\\test\"\n",
    "image_files = [file for file in os.listdir(folder_path) if file.endswith(\".jpg\") or file.endswith(\".png\")]"
   ]
  },
  {
   "attachments": {},
   "cell_type": "markdown",
   "metadata": {},
   "source": [
    "## Processing"
   ]
  },
  {
   "cell_type": "code",
   "execution_count": 32,
   "metadata": {},
   "outputs": [],
   "source": [
    "for image_file in image_files:\n",
    "    image_path = os.path.join(folder_path, image_file)\n",
    "    process_image(image_path)"
   ]
  }
 ],
 "metadata": {
  "kernelspec": {
   "display_name": "Python 3",
   "language": "python",
   "name": "python3"
  },
  "language_info": {
   "codemirror_mode": {
    "name": "ipython",
    "version": 3
   },
   "file_extension": ".py",
   "mimetype": "text/x-python",
   "name": "python",
   "nbconvert_exporter": "python",
   "pygments_lexer": "ipython3",
   "version": "3.10.9"
  },
  "orig_nbformat": 4
 },
 "nbformat": 4,
 "nbformat_minor": 2
}
